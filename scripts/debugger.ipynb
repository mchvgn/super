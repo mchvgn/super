{
 "cells": [
  {
   "cell_type": "code",
   "execution_count": null,
   "metadata": {},
   "outputs": [],
   "source": [
    "import pandas  as pd\n",
    "import calendar\n",
    "from time import  sleep\n",
    "from selenium import  webdriver\n",
    "from datetime import datetime\n",
    "from selenium.webdriver.common.by import By\n",
    "from selenium.webdriver.chrome.service import Service\n",
    "from selenium.webdriver.support.ui import WebDriverWait\n",
    "from webdriver_manager.chrome import ChromeDriverManager\n",
    "from selenium.webdriver.support import expected_conditions as EC"
   ]
  },
  {
   "cell_type": "code",
   "execution_count": 162,
   "metadata": {},
   "outputs": [],
   "source": [
    "def construct_year_dataframe(driver, year):\n",
    "\n",
    "    driver.get(f'https://www.superenalotto.com/risultati/{year}')\n",
    "    sleep(10)\n",
    "    table = driver.find_element(By.XPATH, '/html/body/div[1]/section[2]/table/tbody')\n",
    "\n",
    "    trs = table.find_elements(By.TAG_NAME, 'tr')\n",
    "    ths = table.find_elements(By.TAG_NAME, 'th')\n",
    "\n",
    "\n",
    "    all_numbers = []\n",
    "    for i in range(int(len(trs)/2)):\n",
    "        for j in range(7):\n",
    "            number = table.find_element(By.XPATH, f'/html/body/div[1]/section[2]/table/tbody/tr[{i+1}]/td/table/tbody/tr/td[{j+1}]')\n",
    "            all_numbers.append(int(number.text))\n",
    "\n",
    "    all_numbers_by_7  =[list(x) for x in zip(*[iter(all_numbers)]*7)]\n",
    "\n",
    "    list_of_rows = []\n",
    "\n",
    "    converter = {'gennaio':'January', 'febbraio':'February', 'marzo':'March', 'aprile':'April', 'maggio':'May', 'giugno':'June', 'luglio':'July', 'agosto':'August', 'settembre':'September', 'ottobre':'October', 'novembre':'November', 'dicembre':'December'}\n",
    "    for i, th in enumerate(ths):\n",
    "\n",
    "        row = []\n",
    "        data = th.text\n",
    "        for key in converter.keys():\n",
    "            data = data.replace(key, converter[key])\n",
    "            # print(data)\n",
    "        data = datetime.strptime(data, \"%d %B %Y\")\n",
    "        row.append(data.date())\n",
    "\n",
    "        for number in [*all_numbers_by_7[i]]:\n",
    "            row.append(number)\n",
    "        list_of_rows.append(row)\n",
    "    \n",
    "    df = pd.DataFrame(list_of_rows, columns=['data', 'n1', 'n2', 'n3', 'n4', 'n5', 'n6', 'star'])\n",
    "\n",
    "    df['data'] = pd.to_datetime(df['data'])\n",
    "    df['day_of_week'] = df['data'].dt.weekday\n",
    "    df['day_of_week'] = df['day_of_week'].apply(lambda x: calendar.day_name[x])\n",
    "\n",
    "    df = df[['data', 'day_of_week', 'n1', 'n2', 'n3', 'n4', 'n5', 'n6', 'star']]\n",
    "    df = df.set_index('data', drop=True)\n",
    "\n",
    "    return df"
   ]
  },
  {
   "cell_type": "code",
   "execution_count": null,
   "metadata": {},
   "outputs": [],
   "source": [
    "def scrape_superanalotto(year=2023):\n",
    "    driver = webdriver.Chrome(service=Service(ChromeDriverManager().install()))\n",
    "\n",
    "    list_df = []\n",
    "\n",
    "    list_of_years = [*range(1997,year+1,1)]\n",
    "    for year in list_of_years:\n",
    "        df = construct_year_dataframe(driver, year)\n",
    "        list_df.append(df)\n",
    "    \n",
    "    final_df = pd.concat(list_df)\n",
    "\n",
    "\n",
    "    final_df = final_df.sort_index(ascending=False)\n",
    "\n",
    "    driver.close()\n",
    "    # final_df.to_csv('super_analotto.csv')\n",
    "    return final_df"
   ]
  },
  {
   "cell_type": "code",
   "execution_count": null,
   "metadata": {},
   "outputs": [],
   "source": []
  }
 ],
 "metadata": {
  "kernelspec": {
   "display_name": "Python 3",
   "language": "python",
   "name": "python3"
  },
  "language_info": {
   "codemirror_mode": {
    "name": "ipython",
    "version": 3
   },
   "file_extension": ".py",
   "mimetype": "text/x-python",
   "name": "python",
   "nbconvert_exporter": "python",
   "pygments_lexer": "ipython3",
   "version": "3.11.0"
  },
  "orig_nbformat": 4,
  "vscode": {
   "interpreter": {
    "hash": "333d2c9757a75282c9d4867cccb346dd97fbdd6438562bec117fa31e687fe23c"
   }
  }
 },
 "nbformat": 4,
 "nbformat_minor": 2
}
